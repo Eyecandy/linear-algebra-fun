{
 "cells": [
  {
   "cell_type": "markdown",
   "metadata": {},
   "source": [
    "Given a matrix: produce a matrix in row echelon form (REF). <br>\n",
    "By using elementary row operations: interchange, scaling and replacement.<br>\n",
    "definition: A matrix is in REF if it satisfies the following conditions:<br>\n",
    "1) If it has zero rows, it must be at the bottom of the matrix.<br>\n",
    "2) Leading entry in each row non-zero row is 1. <br>\n",
    "3) Each leadin is the to the right of all leading 1's above it.<br>\n"
   ]
  },
  {
   "cell_type": "code",
   "execution_count": 16,
   "metadata": {
    "collapsed": false
   },
   "outputs": [],
   "source": [
    "matrix = [\n",
    "          [0,2,1,1,3],\n",
    "          [0,-1,2,2,1],\n",
    "          [0,1,-1,-3,-6]\n",
    "         ]\n",
    "matrix2 = [[ 0 , 1 ,-1, -3, -6],\n",
    " [ 0,  0 , 1 ,-1 ,-5],\n",
    " [ 0,  0  ,3 , 7 ,15]]"
   ]
  },
  {
   "cell_type": "code",
   "execution_count": 20,
   "metadata": {
    "collapsed": false
   },
   "outputs": [],
   "source": [
    "import numpy as np\n",
    "import copy\n",
    "\n",
    "\n",
    "class Gaussian:\n",
    "    def __init__(self, matrix,rows_completed):\n",
    "        self.m = np.array(matrix)\n",
    "        self.rc = rows_completed\n",
    "        self.col = 0\n",
    "        self.row = 0\n",
    "        self.leading = None\n",
    "        self.inter_row = None\n",
    "        self.leading_is_one = False\n",
    "    \n",
    "        \n",
    "        \n",
    "        \n",
    "        \n",
    "        \n",
    "    def all_zeros(self):\n",
    "        return not np.any(self.m)\n",
    "    \n",
    "    def interchange(self,row_i,row_j):\n",
    "        print self.row,self.col\n",
    "        tmp = self.m[row_j].copy()\n",
    "        self.m[row_j] = self.m[row_i]\n",
    "        self.m[row_i] = tmp\n",
    "    \n",
    "    def scale(self,K,row_i):\n",
    "        self.m[row_i] = K*self.m[row_i]\n",
    "    def scale_for_rep(self,K,row_i):\n",
    "        matrix = self.m.copy()\n",
    "        return -K*matrix[row_i]\n",
    "    \n",
    "    \n",
    "        \n",
    "        \n",
    "    def replace(self,K,row_i,row_j):\n",
    "        scaled_row = self.scale_for_rep(K,row_i)\n",
    "        #scaled_row = self.m[row_i]\n",
    "        replace_row = self.m[row_j]\n",
    "        self.m[row_j] = [i + j for i,j in zip(scaled_row, replace_row)]\n",
    "        \n",
    "                      \n",
    "    def check_rows_below_leading(self):\n",
    "        for row_i in range(self.row,len(matrix)):\n",
    "            for col_j in range(row_i):\n",
    "                if (self.m[col_j][row_i] == 1):\n",
    "                    self.leading_is_one= True\n",
    "                    self.inter_row = row_i\n",
    "              \n",
    "    #finds first none zero column, from the 0th to nth row\n",
    "    def none_zero_col(self):\n",
    "        found_leading = False\n",
    "        for row_i in range(len(self.m)):\n",
    "            for col_j in range(self.col,(row_i)):\n",
    "                if (self.m[col_j][row_i] != 0):\n",
    "                    self.row = col_j\n",
    "                    self.col = row_i\n",
    "                    self.leading = float(self.m[col_j][row_i])\n",
    "                    found_leading = True\n",
    "                    break\n",
    "            if (found_leading):\n",
    "                break\n",
    "\n",
    "        if (self.m[self.row][self.col] == 1):\n",
    "            self.leading_is_one = True\n",
    "    \n",
    "        \n",
    "        \n",
    "    #are we done yet? \n",
    "    def done(self):\n",
    "        return self.rc ==  len(self.m) -1\n",
    "        "
   ]
  },
  {
   "cell_type": "code",
   "execution_count": 34,
   "metadata": {
    "collapsed": false
   },
   "outputs": [
    {
     "name": "stdout",
     "output_type": "stream",
     "text": [
      "0 1\n"
     ]
    }
   ],
   "source": [
    "def print_useful(g):\n",
    "    'after one iteration, before update:' \n",
    "    print 'g.row',g.row,'g.col',g.col,'g.rc'\n",
    "    print 'g.rc',g.rc\n",
    "    print 'g.inter',g.inter_row\n",
    "    print 'g.leadin_is_one',g.leading_is_one\n",
    "    print 'g.leading',g.leading\n",
    "    print g.m\n",
    "    print '-------------------------------------'\n",
    "\n",
    "def interchange_or_scale(g):\n",
    "    if (not g.leading_is_one):\n",
    "        g.check_rows_below_leading()   \n",
    "    if (g.inter_row != None):\n",
    "        g.interchange(g.inter_row,g.row)\n",
    "    else:\n",
    "        K = 1./g.leading\n",
    "        g.scale(K,g.row)\n",
    "    \n",
    "def do_replacements(g):\n",
    "    for rep_row in range(g.row+1,len(g.m)):\n",
    "        int_below = g.m[rep_row][g.col]\n",
    "        if (int_below == 0):\n",
    "            continue\n",
    "        g.replace(int_below,g.row,rep_row)\n",
    "def update_vars(g):\n",
    "    g.leading = None\n",
    "    g.inter_row = None\n",
    "    g.leading_is_one = False\n",
    "    g.rc = g.rc + 1\n",
    "    \n",
    "def produce_REF(matrix):\n",
    "    g = Gaussian(matrix,0)\n",
    "    if (g.all_zeros()):\n",
    "        return g.m\n",
    "    \n",
    "    while(not g.done()):\n",
    "        g.none_zero_col()\n",
    "        interchange_or_scale(g)\n",
    "        do_replacements(g)\n",
    "        update_vars(g)\n",
    "    K = 0\n",
    "    for col in g.m[-1]:\n",
    "        if col != 0:\n",
    "            K = col\n",
    "            break\n",
    "    g.m[-1] = g.m[-1]*1./K\n",
    "\n",
    "    return g.m\n",
    "            \n",
    "REF = produce_REF(matrix)\n",
    "\n",
    "    "
   ]
  },
  {
   "cell_type": "code",
   "execution_count": 22,
   "metadata": {
    "collapsed": false
   },
   "outputs": [
    {
     "name": "stdout",
     "output_type": "stream",
     "text": [
      "T1 ---- g ---\n",
      "all zero:\n",
      "False\n",
      "original matrix\n",
      "[[ 0  2  1  1  3]\n",
      " [ 0 -1  2  2  1]\n",
      " [ 0  1 -1 -3 -6]]\n",
      "row 0 <--> row 2\n",
      "0 0\n",
      "[[ 0  1 -1 -3 -6]\n",
      " [ 0 -1  2  2  1]\n",
      " [ 0  2  1  1  3]]\n",
      "row 1 --> 2*row 1\n",
      "[[ 0  1 -1 -3 -6]\n",
      " [ 0 -2  4  4  2]\n",
      " [ 0  2  1  1  3]]\n",
      "row 0 + row 2\n",
      "[[ 0  1 -1 -3 -6]\n",
      " [ 0 -2  4  4  2]\n",
      " [ 0  1  2  4  9]]\n",
      "firt none zero pos\n",
      "r: 0 c: 1\n",
      "leading is one: True\n",
      "1 below non zero:  None\n"
     ]
    }
   ],
   "source": [
    "def test():\n",
    "    print \"T1 ---- g ---\"\n",
    "    g = Gaussian(matrix,0)\n",
    "\n",
    "    print \"all zero:\"\n",
    "    print g.all_zeros()\n",
    "    print \"original matrix\"\n",
    "    print g.m\n",
    "    print \"row 0 <--> row 2\"\n",
    "    g.interchange(0,2)\n",
    "    print g.m\n",
    "    print \"row 1 --> 2*row 1\"\n",
    "    g.scale(2,1)\n",
    "    print g.m\n",
    "    print \"row 0 + row 2\"\n",
    "    g.replace(1,0,2)\n",
    "    print g.m\n",
    "    print \"firt none zero pos\"\n",
    "    g.none_zero_col()\n",
    "    print \"r:\",g.row,\"c:\",g.col\n",
    "    print \"leading is one:\",g.leading_is_one\n",
    "    print \"1 below non zero: \", g.check_rows_below_leading()\n",
    "     \n",
    "test()\n",
    "    "
   ]
  },
  {
   "cell_type": "code",
   "execution_count": 23,
   "metadata": {
    "collapsed": false
   },
   "outputs": [
    {
     "name": "stdout",
     "output_type": "stream",
     "text": [
      "T1 ---- a ---\n",
      "firt none zero pos\n",
      "r: 0 c: 1\n",
      "leading is one: False\n"
     ]
    }
   ],
   "source": [
    "def test2():\n",
    "    print \"T1 ---- a ---\"\n",
    "    a = Gaussian(matrix,0)\n",
    "    print \"firt none zero pos\"\n",
    "    a.none_zero_col()\n",
    "    print \"r:\",a.row,\"c:\",a.col\n",
    "    print \"leading is one:\",a.leading_is_one\n",
    "test2()\n",
    "\n"
   ]
  },
  {
   "cell_type": "code",
   "execution_count": 24,
   "metadata": {
    "collapsed": false
   },
   "outputs": [
    {
     "name": "stdout",
     "output_type": "stream",
     "text": [
      "0 1\n",
      "g.row 0 g.col 1 g.rc\n",
      "g.rc 0\n",
      "g.inter 2\n",
      "g.leadin_is_one True\n",
      "g.leading 2.0\n",
      "[[ 0  1 -1 -3 -6]\n",
      " [ 0  0  1 -1 -5]\n",
      " [ 0  0  3  7 15]]\n",
      "-------------------------------------\n",
      "g.row 0 g.col 1 g.rc\n",
      "g.rc 1\n",
      "g.inter None\n",
      "g.leadin_is_one False\n",
      "g.leading None\n",
      "[[ 0  1 -1 -3 -6]\n",
      " [ 0  0  1 -1 -5]\n",
      " [ 0  0  3  7 15]]\n",
      "-------------------------------------\n",
      "g.row 1 g.col 2 g.rc\n",
      "g.rc 1\n",
      "g.inter None\n",
      "g.leadin_is_one True\n",
      "g.leading 1.0\n",
      "[[ 0  1 -1 -3 -6]\n",
      " [ 0  0  1 -1 -5]\n",
      " [ 0  0  3  7 15]]\n",
      "-------------------------------------\n",
      "g.row 1 g.col 2 g.rc\n",
      "g.rc 1\n",
      "g.inter None\n",
      "g.leadin_is_one True\n",
      "g.leading 1.0\n",
      "[[ 0  1 -1 -3 -6]\n",
      " [ 0  0  1 -1 -5]\n",
      " [ 0  0  3  7 15]]\n",
      "-------------------------------------\n",
      "g.row 1 g.col 2 g.rc\n",
      "g.rc 1\n",
      "g.inter None\n",
      "g.leadin_is_one True\n",
      "g.leading 1.0\n",
      "[[ 0  1 -1 -3 -6]\n",
      " [ 0  0  1 -1 -5]\n",
      " [ 0  0  0 10 30]]\n",
      "-------------------------------------\n",
      "g.row 1 g.col 2 g.rc\n",
      "g.rc 2\n",
      "g.inter None\n",
      "g.leadin_is_one True\n",
      "g.leading None\n",
      "[[ 0  1 -1 -3 -6]\n",
      " [ 0  0  1 -1 -5]\n",
      " [ 0  0  0 10 30]]\n",
      "-------------------------------------\n"
     ]
    }
   ],
   "source": [
    "\n",
    "\n",
    "def test3(matrix):\n",
    "    matrix1,zero_rows = remove_zero_rows(matrix)\n",
    "    g = Gaussian(matrix1,0)\n",
    "    g.none_zero_col()\n",
    "    interchange_or_scale(g)\n",
    "    do_replacements(g)\n",
    "    print_useful(g)\n",
    "    update_vars(g)\n",
    "    print_useful(g)\n",
    "    g.none_zero_col()\n",
    "    \n",
    "    print_useful(g)\n",
    "    interchange_or_scale(g)\n",
    "    print_useful(g)\n",
    "    do_replacements(g)\n",
    "    print_useful(g)\n",
    "    update_vars(g)\n",
    "    \n",
    "    g.none_zero_col()\n",
    "    print_useful(g)\n",
    "    \n",
    "    \n",
    "\n",
    "\n",
    "    \n",
    "    \n",
    "    \n",
    "    \n",
    "    \n",
    "    \n",
    "    \n",
    "    \n",
    "    \n",
    "test3(matrix)"
   ]
  },
  {
   "cell_type": "code",
   "execution_count": null,
   "metadata": {
    "collapsed": true
   },
   "outputs": [],
   "source": []
  },
  {
   "cell_type": "code",
   "execution_count": null,
   "metadata": {
    "collapsed": true
   },
   "outputs": [],
   "source": []
  },
  {
   "cell_type": "code",
   "execution_count": null,
   "metadata": {
    "collapsed": true
   },
   "outputs": [],
   "source": []
  }
 ],
 "metadata": {
  "kernelspec": {
   "display_name": "Python 3",
   "language": "python",
   "name": "python3"
  },
  "language_info": {
   "codemirror_mode": {
    "name": "ipython",
    "version": 2
   },
   "file_extension": ".py",
   "mimetype": "text/x-python",
   "name": "python",
   "nbconvert_exporter": "python",
   "pygments_lexer": "ipython2",
   "version": "2.7.13"
  }
 },
 "nbformat": 4,
 "nbformat_minor": 2
}
