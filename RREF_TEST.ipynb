{
 "cells": [
  {
   "cell_type": "code",
   "execution_count": 105,
   "metadata": {
    "collapsed": false
   },
   "outputs": [],
   "source": [
    "%run 'RREF.ipynb'"
   ]
  },
  {
   "cell_type": "code",
   "execution_count": 113,
   "metadata": {
    "collapsed": false
   },
   "outputs": [],
   "source": [
    "matrix = [[1,2,3],[0,4,8],[9,5,6]]\n",
    "matrix2 = [[1,0,10,5],\n",
    "           [3,1,-4,-1],\n",
    "           [4,1,6,1]]\n",
    "matrix3 = [[1,-2,-1,3,1],\n",
    "          [2,-4,1,0,5],\n",
    "          [1,-2,2,-3,4]]\n",
    "matrix4 = [[0,3,-6,6,4,-5],\n",
    "           [3,-7,8,-5,8,9],\n",
    "           [0,1,-2,2,1,-3]]\n",
    "           "
   ]
  },
  {
   "cell_type": "code",
   "execution_count": 116,
   "metadata": {
    "collapsed": false
   },
   "outputs": [
    {
     "name": "stdout",
     "output_type": "stream",
     "text": [
      "[[  1.   0.  -2.   3.   0. -24.]\n",
      " [  0.   1.  -2.   2.   0.  -7.]\n",
      " [  0.   0.   0.   0.   1.   4.]]\n"
     ]
    }
   ],
   "source": [
    "solve_RREF(matrix4)"
   ]
  },
  {
   "cell_type": "code",
   "execution_count": 115,
   "metadata": {
    "collapsed": false
   },
   "outputs": [
    {
     "name": "stdout",
     "output_type": "stream",
     "text": [
      "g.row 0 g.col 0\n",
      "g.leading 1.0\n",
      "[[ 1. -2. -1.  3.  1.]\n",
      " [ 0.  0.  3. -6.  3.]\n",
      " [ 0.  0.  3. -6.  3.]]\n",
      "done: False\n",
      "-------------------------------------\n",
      "g.row 1 g.col 2\n",
      "g.leading 3.0\n",
      "[[ 1. -2. -1.  3.  1.]\n",
      " [ 0.  0.  1. -2.  1.]\n",
      " [ 0.  0.  0.  0.  0.]]\n",
      "done: False\n",
      "-------------------------------------\n",
      "g.row 2 g.col 3\n",
      "g.leading None\n",
      "[[ 1. -2. -1.  3.  1.]\n",
      " [ 0.  0.  1. -2.  1.]\n",
      " [ 0.  0.  0.  0.  0.]]\n",
      "done: False\n",
      "-------------------------------------\n"
     ]
    }
   ],
   "source": [
    "def test(matrix3):\n",
    "    g = Gaussian(matrix3)\n",
    "    g.find_leading()\n",
    "    g.do_replacements()\n",
    "    print_useful(g)\n",
    "    g.reset_leading()\n",
    "    \n",
    "    g.find_leading()\n",
    "    g.do_replacements()\n",
    "    print_useful(g)\n",
    "    g.reset_leading()\n",
    "    \n",
    "    \n",
    "    g.find_leading()\n",
    "    g.do_replacements()\n",
    "    print_useful(g)\n",
    "    g.reset_leading()\n",
    "test(matrix3)\n",
    "    "
   ]
  },
  {
   "cell_type": "markdown",
   "metadata": {},
   "source": []
  },
  {
   "cell_type": "markdown",
   "metadata": {},
   "source": []
  },
  {
   "cell_type": "code",
   "execution_count": null,
   "metadata": {
    "collapsed": true
   },
   "outputs": [],
   "source": []
  }
 ],
 "metadata": {
  "kernelspec": {
   "display_name": "Python 2",
   "language": "python",
   "name": "python2"
  },
  "language_info": {
   "codemirror_mode": {
    "name": "ipython",
    "version": 2
   },
   "file_extension": ".py",
   "mimetype": "text/x-python",
   "name": "python",
   "nbconvert_exporter": "python",
   "pygments_lexer": "ipython2",
   "version": "2.7.13"
  }
 },
 "nbformat": 4,
 "nbformat_minor": 2
}
