{
 "cells": [
  {
   "cell_type": "code",
   "execution_count": 103,
   "metadata": {
    "collapsed": false
   },
   "outputs": [],
   "source": [
    "%run 'RREF.ipynb'"
   ]
  },
  {
   "cell_type": "code",
   "execution_count": 95,
   "metadata": {
    "collapsed": false
   },
   "outputs": [],
   "source": [
    "matrix = [[1,2,3],[0,4,8],[9,5,6]]\n",
    "matrix2 = [[1,0,10,5],\n",
    "           [3,1,-4,-1],\n",
    "           [4,1,6,1]]\n",
    "matrix3 = [[1,-2,-1,3,1],\n",
    "          [2,-4,1,0,5],\n",
    "          [1,-2,2,-3,4]]\n",
    "matrix4 = [[0,3,-6,6,4,-5],\n",
    "           [3,-7,8,-5,8,9],\n",
    "           [0,1,-2,2,1,-3]]\n",
    "matrix5 = [[1,-1,2,1],[0,0,0,0],[0,1,0,-2]]\n",
    "\n",
    "matrix6 = [\n",
    "           [1,1,1,1],\n",
    "           [0,3,1,0],\n",
    "           [0,0,2,1]\n",
    "          ]\n",
    "matrix7 = [[1,1,1,1,1],\n",
    "           [0,2,1,0,3],\n",
    "           [0,2,1,0,-3],\n",
    "           [0,0,1,0,1]\n",
    "          ]\n",
    "matrix8 = [[1,2,1,4],[0,1,-1,1],[1,0,3,0]]\n",
    "\n",
    "\n",
    "\n",
    "           "
   ]
  },
  {
   "cell_type": "code",
   "execution_count": 45,
   "metadata": {
    "collapsed": false
   },
   "outputs": [
    {
     "data": {
      "text/plain": [
       "array([[ 1.,  0.,  0.],\n",
       "       [ 0.,  1.,  0.],\n",
       "       [ 0.,  0.,  1.]])"
      ]
     },
     "execution_count": 45,
     "metadata": {},
     "output_type": "execute_result"
    }
   ],
   "source": [
    "solve_RREF(matrix)"
   ]
  },
  {
   "cell_type": "code",
   "execution_count": 46,
   "metadata": {
    "collapsed": false
   },
   "outputs": [
    {
     "data": {
      "text/plain": [
       "array([[  1.,   0.,  10.,   0.],\n",
       "       [  0.,   1., -34.,   0.],\n",
       "       [ -0.,  -0.,  -0.,   1.]])"
      ]
     },
     "execution_count": 46,
     "metadata": {},
     "output_type": "execute_result"
    }
   ],
   "source": [
    "solve_RREF(matrix2)\n",
    "    "
   ]
  },
  {
   "cell_type": "code",
   "execution_count": 47,
   "metadata": {
    "collapsed": false
   },
   "outputs": [
    {
     "data": {
      "text/plain": [
       "array([[ 1., -2.,  0.,  1.,  2.],\n",
       "       [ 0.,  0.,  1., -2.,  1.],\n",
       "       [ 0.,  0.,  0.,  0.,  0.]])"
      ]
     },
     "execution_count": 47,
     "metadata": {},
     "output_type": "execute_result"
    }
   ],
   "source": [
    "solve_RREF(matrix3)"
   ]
  },
  {
   "cell_type": "markdown",
   "metadata": {},
   "source": []
  },
  {
   "cell_type": "code",
   "execution_count": 48,
   "metadata": {
    "collapsed": false
   },
   "outputs": [
    {
     "data": {
      "text/plain": [
       "array([[  1.,   0.,  -2.,   3.,   0., -24.],\n",
       "       [  0.,   1.,  -2.,   2.,   0.,  -7.],\n",
       "       [ -0.,  -0.,  -0.,  -0.,   1.,   4.]])"
      ]
     },
     "execution_count": 48,
     "metadata": {},
     "output_type": "execute_result"
    }
   ],
   "source": [
    "solve_RREF(matrix4)"
   ]
  },
  {
   "cell_type": "code",
   "execution_count": 49,
   "metadata": {
    "collapsed": false
   },
   "outputs": [
    {
     "data": {
      "text/plain": [
       "array([[ 1.,  0.,  2., -1.],\n",
       "       [ 0.,  1.,  0., -2.],\n",
       "       [ 0.,  0.,  0.,  0.]])"
      ]
     },
     "execution_count": 49,
     "metadata": {},
     "output_type": "execute_result"
    }
   ],
   "source": [
    "solve_RREF(matrix5)"
   ]
  },
  {
   "cell_type": "code",
   "execution_count": 83,
   "metadata": {
    "collapsed": false
   },
   "outputs": [
    {
     "data": {
      "text/plain": [
       "array([[ 1.        ,  0.        ,  0.        ,  0.66666667],\n",
       "       [ 0.        ,  1.        ,  0.        , -0.16666667],\n",
       "       [ 0.        ,  0.        ,  1.        ,  0.5       ]])"
      ]
     },
     "execution_count": 83,
     "metadata": {},
     "output_type": "execute_result"
    }
   ],
   "source": [
    "solve_RREF(matrix6)"
   ]
  },
  {
   "cell_type": "code",
   "execution_count": 94,
   "metadata": {
    "collapsed": false
   },
   "outputs": [
    {
     "data": {
      "text/plain": [
       "array([[ 1.,  0.,  0.,  1.,  0.],\n",
       "       [ 0.,  1.,  0.,  0.,  0.],\n",
       "       [ 0.,  0.,  1.,  0.,  0.],\n",
       "       [-0., -0., -0., -0.,  1.]])"
      ]
     },
     "execution_count": 94,
     "metadata": {},
     "output_type": "execute_result"
    }
   ],
   "source": [
    "solve_RREF(matrix7)"
   ]
  },
  {
   "cell_type": "markdown",
   "metadata": {},
   "source": []
  },
  {
   "cell_type": "code",
   "execution_count": 104,
   "metadata": {
    "collapsed": false
   },
   "outputs": [
    {
     "data": {
      "text/plain": [
       "array([[ 1.,  0.,  3.,  0.],\n",
       "       [ 0.,  1., -1.,  0.],\n",
       "       [-0., -0., -0.,  1.]])"
      ]
     },
     "execution_count": 104,
     "metadata": {},
     "output_type": "execute_result"
    }
   ],
   "source": [
    "solve_RREF(matrix8)"
   ]
  },
  {
   "cell_type": "code",
   "execution_count": null,
   "metadata": {
    "collapsed": true
   },
   "outputs": [],
   "source": [
    "def test(matrix3):\n",
    "    g = Gaussian(matrix3)\n",
    "    g.find_leading()\n",
    "    g.do_replacements()\n",
    "    print_useful(g)\n",
    "    g.reset_leading()\n",
    "    \n",
    "    g.find_leading()\n",
    "    g.do_replacements()\n",
    "    print_useful(g)\n",
    "    g.reset_leading()\n",
    "    \n",
    "    \n",
    "    g.find_leading()\n",
    "    g.do_replacements()\n",
    "    print_useful(g)\n",
    "    g.reset_leading()\n",
    "test(matrix3)"
   ]
  },
  {
   "cell_type": "code",
   "execution_count": null,
   "metadata": {
    "collapsed": true
   },
   "outputs": [],
   "source": []
  }
 ],
 "metadata": {
  "kernelspec": {
   "display_name": "Python 2",
   "language": "python",
   "name": "python2"
  },
  "language_info": {
   "codemirror_mode": {
    "name": "ipython",
    "version": 2
   },
   "file_extension": ".py",
   "mimetype": "text/x-python",
   "name": "python",
   "nbconvert_exporter": "python",
   "pygments_lexer": "ipython2",
   "version": "2.7.13"
  }
 },
 "nbformat": 4,
 "nbformat_minor": 2
}
