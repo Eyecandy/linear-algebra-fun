{
 "cells": [
  {
   "cell_type": "markdown",
   "metadata": {},
   "source": [
    "Given a matrix: produce a matrix in row echelon form (REF). <br>\n",
    "By using elementary row operations: interchange, scaling and replacement.<br>\n",
    "definition: A matrix is in REF if it satisfies the following conditions:<br>\n",
    "1) If it has zero rows, it must be at the bottom of the matrix.<br>\n",
    "2) Leading entry in each row non-zero row is 1. <br>\n",
    "3) Each leadin is the to the right of all leading 1's above it.<br>\n"
   ]
  },
  {
   "cell_type": "code",
   "execution_count": 10,
   "metadata": {
    "collapsed": false
   },
   "outputs": [],
   "source": [
    "matrix = [\n",
    "          [0,2,1,1,3],\n",
    "          [0,-1,2,2,1],\n",
    "          [0,1,-1,-3,-6]\n",
    "         ]\n",
    "matrix2 = [[ 0 , 1 ,-1, -3, -6],\n",
    " [ 0,  0 , 1 ,-1 ,-5],\n",
    " [ 0,  0  ,3 , 7 ,15]]\n",
    "matrix3 = [[2,1,1,3],\n",
    "           [-1,2,2,1],\n",
    "           [1,-1,-3,-6]]\n",
    "matrix4 = [[2,4,2],[8,8,1]]\n",
    "\n"
   ]
  },
  {
   "cell_type": "code",
   "execution_count": 34,
   "metadata": {
    "collapsed": false
   },
   "outputs": [],
   "source": [
    "import numpy as np\n",
    "import copy\n",
    "def print_useful(g):\n",
    "    'after one iteration, before update:' \n",
    "    print 'g.row',g.row,'g.col',g.col\n",
    "    print 'g.leading',g.leading\n",
    "    print g.m\n",
    "    print 'done:',g.done()\n",
    "    print '-------------------------------------'\n",
    "\n",
    "class Gaussian:\n",
    "    def __init__(self, matrix):\n",
    "        self.m = np.array(self.float_it(matrix))\n",
    "        self.col = 0\n",
    "        self.row = 0\n",
    "        self.leading = None\n",
    "    \n",
    "    def float_it(self,matrix):\n",
    "        for i,row in enumerate(matrix):\n",
    "            for j,col in enumerate(row):\n",
    "                matrix[i][j] = float(matrix[i][j])\n",
    "        return matrix\n",
    "    \n",
    "         \n",
    "    def all_zeros(self):\n",
    "        return not np.any(self.m)\n",
    "    \n",
    "    def interchange(self,row_i,row_j):\n",
    "        tmp = self.m[row_j].copy()\n",
    "        self.m[row_j] = self.m[row_i]\n",
    "        self.m[row_i] = tmp\n",
    "    \n",
    "    def scale(self,K,row_i):\n",
    "        scaled_row = K*self.m[row_i]\n",
    "        self.m[row_i] = scaled_row\n",
    "        \n",
    "    def scale_for_rep(self,K,row_i):\n",
    "        matrix = self.m.copy()\n",
    "        return -K*matrix[row_i]\n",
    "    \n",
    "    def replace(self,K,row_i,row_j):\n",
    "        scaled_row = self.scale_for_rep(K,row_i)\n",
    "        replace_row = self.m[row_j]\n",
    "        self.m[row_j] = [i + j for i,j in zip(scaled_row, replace_row)]\n",
    "        \n",
    "                      \n",
    "    def first_none_zero_elt(self,col):\n",
    "        for r_idx,elt in enumerate(col):\n",
    "            if (elt != 0 and r_idx >= self.row ):\n",
    "                return r_idx,elt\n",
    "        return None,None\n",
    "    \n",
    "    def update(self,r,c,l):\n",
    "        self.row = r\n",
    "        self.col = c\n",
    "        self.leading = l\n",
    "        \n",
    "    def reset_leading(self):\n",
    "        self.leading = None\n",
    "        self.row +=1\n",
    "        self.col +=1\n",
    "        \n",
    "        \n",
    "    def find_one(self):\n",
    "        for r_idx,elt in enumerate (self.m.T[self.col]):\n",
    "            if (elt == 1):\n",
    "                self.interchange(r_idx,self.row)\n",
    "                self.leading = 1\n",
    "                break\n",
    "        if (self.leading != 1):\n",
    "            K = 1/float(self.leading)\n",
    "            self.scale(K,self.row)\n",
    "    \n",
    "    \n",
    "    def do_replacements(self):\n",
    "        for r_idx,elt in enumerate(self.m.T[self.col]):\n",
    "            if (elt != 0 and r_idx > self.row):\n",
    "                K = elt\n",
    "                self.replace(K,self.row,r_idx)\n",
    "        \n",
    "        \n",
    "    def find_leading(self):\n",
    "        for c_idx,col in enumerate(self.m.T):\n",
    "            not_all_zero = np.any(col)\n",
    "            if (not_all_zero and c_idx >= self.col):\n",
    "                r_idx,elt = self.first_none_zero_elt(col)\n",
    "                self.update(r_idx,c_idx,elt)\n",
    "                break\n",
    "        \n",
    "        if (self.leading != 1):\n",
    "            self.find_one()\n",
    "\n",
    "    #are we done yet? \n",
    "    def done(self):\n",
    "        return self.row >= len(self.m)\n",
    "    \n",
    "    def produce_REF(self):\n",
    "        while(not self.done()):\n",
    "            self.find_leading()\n",
    "            self.do_replacements()\n",
    "            self.reset_leading()\n",
    "        return self.m\n",
    "    \n"
   ]
  },
  {
   "cell_type": "code",
   "execution_count": 35,
   "metadata": {
    "collapsed": false
   },
   "outputs": [
    {
     "name": "stdout",
     "output_type": "stream",
     "text": [
      "g.row 0 g.col 1\n",
      "g.leading 1\n",
      "[[  0.   1.  -1.  -3.  -6.]\n",
      " [  0.   0.   1.  -1.  -5.]\n",
      " [  0.   0.   3.   7.  15.]]\n",
      "done: False\n",
      "-------------------------------------\n",
      "g.row 1 g.col 2\n",
      "g.leading 1.0\n",
      "[[  0.   1.  -1.  -3.  -6.]\n",
      " [  0.   0.   1.  -1.  -5.]\n",
      " [  0.   0.   0.  10.  30.]]\n",
      "done: False\n",
      "-------------------------------------\n",
      "g.row 2 g.col 3\n",
      "g.leading 10.0\n",
      "[[ 0.  1. -1. -3. -6.]\n",
      " [ 0.  0.  1. -1. -5.]\n",
      " [ 0.  0.  0.  1.  3.]]\n",
      "done: False\n",
      "-------------------------------------\n",
      "[[ 0.  1. -1. -3. -6.]\n",
      " [ 0.  0.  1. -1. -5.]\n",
      " [ 0.  0.  0.  1.  3.]]\n"
     ]
    }
   ],
   "source": [
    "gauss = Gaussian(matrix)\n",
    "REF = gauss.produce_REF()\n",
    "print REF\n"
   ]
  },
  {
   "cell_type": "code",
   "execution_count": null,
   "metadata": {
    "collapsed": false
   },
   "outputs": [],
   "source": []
  },
  {
   "cell_type": "code",
   "execution_count": null,
   "metadata": {
    "collapsed": false
   },
   "outputs": [],
   "source": [
    "def test(matrix):\n",
    "    g = Gaussian(matrix)\n",
    "    print_useful(g)\n",
    "    g.find_leading()\n",
    "    g.do_replacements()\n",
    "    print_useful(g)\n",
    "    g.find_leading()\n",
    "    g.do_replacements()\n",
    "    print_useful(g)\n",
    "    g.find_leading()\n",
    "    g.do_replacements()\n",
    "    print_useful(g)\n",
    "    \n",
    "    \n",
    "test(matrix)"
   ]
  },
  {
   "cell_type": "code",
   "execution_count": null,
   "metadata": {
    "collapsed": true
   },
   "outputs": [],
   "source": [
    "def test2(matrix):\n",
    "    g = Gaussian(matrix)\n",
    "    g.find_leading()\n",
    "    print_useful(g)\n",
    "    g.do_replacements()\n",
    "    print_useful(g)\n",
    "    g.find_leading()\n",
    "    print_useful(g)\n",
    "    print g.row - (len(g.m) -1)\n",
    "test2(matrix4)"
   ]
  },
  {
   "cell_type": "code",
   "execution_count": null,
   "metadata": {
    "collapsed": true
   },
   "outputs": [],
   "source": []
  },
  {
   "cell_type": "code",
   "execution_count": null,
   "metadata": {
    "collapsed": true
   },
   "outputs": [],
   "source": []
  },
  {
   "cell_type": "code",
   "execution_count": null,
   "metadata": {
    "collapsed": false
   },
   "outputs": [],
   "source": [
    "\n",
    "\n",
    "\n",
    "\n",
    "    "
   ]
  },
  {
   "cell_type": "code",
   "execution_count": null,
   "metadata": {
    "collapsed": false
   },
   "outputs": [],
   "source": []
  },
  {
   "cell_type": "code",
   "execution_count": null,
   "metadata": {
    "collapsed": false
   },
   "outputs": [],
   "source": []
  },
  {
   "cell_type": "code",
   "execution_count": null,
   "metadata": {
    "collapsed": false
   },
   "outputs": [],
   "source": [
    "\n",
    "\n"
   ]
  },
  {
   "cell_type": "code",
   "execution_count": null,
   "metadata": {
    "collapsed": true
   },
   "outputs": [],
   "source": []
  },
  {
   "cell_type": "code",
   "execution_count": null,
   "metadata": {
    "collapsed": true
   },
   "outputs": [],
   "source": []
  },
  {
   "cell_type": "code",
   "execution_count": null,
   "metadata": {
    "collapsed": true
   },
   "outputs": [],
   "source": []
  },
  {
   "cell_type": "code",
   "execution_count": null,
   "metadata": {
    "collapsed": true
   },
   "outputs": [],
   "source": []
  },
  {
   "cell_type": "code",
   "execution_count": null,
   "metadata": {
    "collapsed": true
   },
   "outputs": [],
   "source": []
  },
  {
   "cell_type": "code",
   "execution_count": null,
   "metadata": {
    "collapsed": true
   },
   "outputs": [],
   "source": []
  }
 ],
 "metadata": {
  "kernelspec": {
   "display_name": "Python 3",
   "language": "python",
   "name": "python3"
  },
  "language_info": {
   "codemirror_mode": {
    "name": "ipython",
    "version": 2
   },
   "file_extension": ".py",
   "mimetype": "text/x-python",
   "name": "python",
   "nbconvert_exporter": "python",
   "pygments_lexer": "ipython2",
   "version": "2.7.13"
  }
 },
 "nbformat": 4,
 "nbformat_minor": 2
}
